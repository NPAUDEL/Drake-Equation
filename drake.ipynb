import random
star = random.uniform(1,3)
fraction_star=random.uniform(1,5)
habitable=0.2
life=random.uniform(0.5,1)
life_intelligent=random.uniform(0.5,1)
communication=random.uniform(0.1,0.2)
commspan=random.randint(100,1000)
result=star*fraction_star*habitable*life*life_intelligent*communication*commspan
print(result)

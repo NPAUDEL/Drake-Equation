{
 "metadata": {
  "language_info": {
   "codemirror_mode": {
    "name": "ipython",
    "version": 3
   },
   "file_extension": ".py",
   "mimetype": "text/x-python",
   "name": "python",
   "nbconvert_exporter": "python",
   "pygments_lexer": "ipython3",
   "version": "3.9.1-final"
  },
  "orig_nbformat": 2,
  "kernelspec": {
   "name": "python3",
   "display_name": "Python 3.9.1 64-bit",
   "metadata": {
    "interpreter": {
     "hash": "4f2003561d36ff02adae1a22c28944e2e5bc4a63a8567810e2560a42faa57bbe"
    }
   }
  }
 },
 "nbformat": 4,
 "nbformat_minor": 2,
 "cells": [
  {
   "cell_type": "code",
   "execution_count": 210,
   "metadata": {},
   "outputs": [
    {
     "output_type": "stream",
     "name": "stdout",
     "text": [
      "131.13841067397442\n"
     ]
    }
   ],
   "source": [
    "import random\n",
    "star = random.uniform(1,3)\n",
    "fraction_star=random.uniform(1,5)\n",
    "habitable=0.2\n",
    "life=random.uniform(0.5,1)\n",
    "life_intelligent=random.uniform(0.5,1)\n",
    "communication=random.uniform(0.1,0.2)\n",
    "commspan=random.randint(100,1000)\n",
    "result=star*fraction_star*habitable*life*life_intelligent*communication*commspan\n",
    "print(result)\n",
    "\n",
    "\n",
    "\n",
    "\n",
    "\n"
   ]
  },
  {
   "cell_type": "code",
   "execution_count": null,
   "metadata": {},
   "outputs": [],
   "source": []
  }
 ]
}